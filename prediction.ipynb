{
  "nbformat": 4,
  "nbformat_minor": 0,
  "metadata": {
    "colab": {
      "provenance": [],
      "gpuType": "T4",
      "mount_file_id": "1F6VbmhbYrDCzfrufHVH-aWAmmh6F3vuQ",
      "authorship_tag": "ABX9TyNVBBWbWke0t4Kaw+963exu",
      "include_colab_link": true
    },
    "kernelspec": {
      "name": "python3",
      "display_name": "Python 3"
    },
    "language_info": {
      "name": "python"
    },
    "accelerator": "GPU"
  },
  "cells": [
    {
      "cell_type": "markdown",
      "metadata": {
        "id": "view-in-github",
        "colab_type": "text"
      },
      "source": [
        "<a href=\"https://colab.research.google.com/github/Ah200512/imdb-dataset-prediction/blob/main/prediction.ipynb\" target=\"_parent\"><img src=\"https://colab.research.google.com/assets/colab-badge.svg\" alt=\"Open In Colab\"/></a>"
      ]
    },
    {
      "cell_type": "code",
      "execution_count": 3,
      "metadata": {
        "id": "YDyAVI_9kIMx"
      },
      "outputs": [],
      "source": [
        "import numpy as np\n",
        "import tensorflow as tf\n",
        "from tensorflow.keras.datasets import imdb\n",
        "from tensorflow.keras.preprocessing import sequence\n",
        "from tensorflow.keras.models import load_model"
      ]
    },
    {
      "cell_type": "code",
      "source": [
        "word_index = imdb.get_word_index()\n",
        "reverse_word_index = {value: key for key, value in word_index.items()}"
      ],
      "metadata": {
        "colab": {
          "base_uri": "https://localhost:8080/"
        },
        "id": "78HtDHp4k7WP",
        "outputId": "f2a4a0e4-9748-4c0f-913e-0226bb4c0543"
      },
      "execution_count": 4,
      "outputs": [
        {
          "output_type": "stream",
          "name": "stdout",
          "text": [
            "Downloading data from https://storage.googleapis.com/tensorflow/tf-keras-datasets/imdb_word_index.json\n",
            "\u001b[1m1641221/1641221\u001b[0m \u001b[32m━━━━━━━━━━━━━━━━━━━━\u001b[0m\u001b[37m\u001b[0m \u001b[1m0s\u001b[0m 0us/step\n"
          ]
        }
      ]
    },
    {
      "cell_type": "code",
      "source": [
        "model=load_model('/content/drive/MyDrive/Colab Notebooks/simple_rnn_model.h5')\n",
        "model.summary()\n"
      ],
      "metadata": {
        "colab": {
          "base_uri": "https://localhost:8080/",
          "height": 278
        },
        "id": "bNca_Ynvk7ZI",
        "outputId": "343b2bbb-b7eb-4efd-a19a-438036a02b9c"
      },
      "execution_count": 5,
      "outputs": [
        {
          "output_type": "stream",
          "name": "stderr",
          "text": [
            "WARNING:absl:Compiled the loaded model, but the compiled metrics have yet to be built. `model.compile_metrics` will be empty until you train or evaluate the model.\n"
          ]
        },
        {
          "output_type": "display_data",
          "data": {
            "text/plain": [
              "\u001b[1mModel: \"sequential\"\u001b[0m\n"
            ],
            "text/html": [
              "<pre style=\"white-space:pre;overflow-x:auto;line-height:normal;font-family:Menlo,'DejaVu Sans Mono',consolas,'Courier New',monospace\"><span style=\"font-weight: bold\">Model: \"sequential\"</span>\n",
              "</pre>\n"
            ]
          },
          "metadata": {}
        },
        {
          "output_type": "display_data",
          "data": {
            "text/plain": [
              "┏━━━━━━━━━━━━━━━━━━━━━━━━━━━━━━━━━┳━━━━━━━━━━━━━━━━━━━━━━━━┳━━━━━━━━━━━━━━━┓\n",
              "┃\u001b[1m \u001b[0m\u001b[1mLayer (type)                   \u001b[0m\u001b[1m \u001b[0m┃\u001b[1m \u001b[0m\u001b[1mOutput Shape          \u001b[0m\u001b[1m \u001b[0m┃\u001b[1m \u001b[0m\u001b[1m      Param #\u001b[0m\u001b[1m \u001b[0m┃\n",
              "┡━━━━━━━━━━━━━━━━━━━━━━━━━━━━━━━━━╇━━━━━━━━━━━━━━━━━━━━━━━━╇━━━━━━━━━━━━━━━┩\n",
              "│ embedding (\u001b[38;5;33mEmbedding\u001b[0m)           │ (\u001b[38;5;34m32\u001b[0m, \u001b[38;5;34m500\u001b[0m, \u001b[38;5;34m128\u001b[0m)         │     \u001b[38;5;34m1,280,000\u001b[0m │\n",
              "├─────────────────────────────────┼────────────────────────┼───────────────┤\n",
              "│ simple_rnn (\u001b[38;5;33mSimpleRNN\u001b[0m)          │ (\u001b[38;5;34m32\u001b[0m, \u001b[38;5;34m128\u001b[0m)              │        \u001b[38;5;34m32,896\u001b[0m │\n",
              "├─────────────────────────────────┼────────────────────────┼───────────────┤\n",
              "│ dense (\u001b[38;5;33mDense\u001b[0m)                   │ (\u001b[38;5;34m32\u001b[0m, \u001b[38;5;34m1\u001b[0m)                │           \u001b[38;5;34m129\u001b[0m │\n",
              "└─────────────────────────────────┴────────────────────────┴───────────────┘\n"
            ],
            "text/html": [
              "<pre style=\"white-space:pre;overflow-x:auto;line-height:normal;font-family:Menlo,'DejaVu Sans Mono',consolas,'Courier New',monospace\">┏━━━━━━━━━━━━━━━━━━━━━━━━━━━━━━━━━┳━━━━━━━━━━━━━━━━━━━━━━━━┳━━━━━━━━━━━━━━━┓\n",
              "┃<span style=\"font-weight: bold\"> Layer (type)                    </span>┃<span style=\"font-weight: bold\"> Output Shape           </span>┃<span style=\"font-weight: bold\">       Param # </span>┃\n",
              "┡━━━━━━━━━━━━━━━━━━━━━━━━━━━━━━━━━╇━━━━━━━━━━━━━━━━━━━━━━━━╇━━━━━━━━━━━━━━━┩\n",
              "│ embedding (<span style=\"color: #0087ff; text-decoration-color: #0087ff\">Embedding</span>)           │ (<span style=\"color: #00af00; text-decoration-color: #00af00\">32</span>, <span style=\"color: #00af00; text-decoration-color: #00af00\">500</span>, <span style=\"color: #00af00; text-decoration-color: #00af00\">128</span>)         │     <span style=\"color: #00af00; text-decoration-color: #00af00\">1,280,000</span> │\n",
              "├─────────────────────────────────┼────────────────────────┼───────────────┤\n",
              "│ simple_rnn (<span style=\"color: #0087ff; text-decoration-color: #0087ff\">SimpleRNN</span>)          │ (<span style=\"color: #00af00; text-decoration-color: #00af00\">32</span>, <span style=\"color: #00af00; text-decoration-color: #00af00\">128</span>)              │        <span style=\"color: #00af00; text-decoration-color: #00af00\">32,896</span> │\n",
              "├─────────────────────────────────┼────────────────────────┼───────────────┤\n",
              "│ dense (<span style=\"color: #0087ff; text-decoration-color: #0087ff\">Dense</span>)                   │ (<span style=\"color: #00af00; text-decoration-color: #00af00\">32</span>, <span style=\"color: #00af00; text-decoration-color: #00af00\">1</span>)                │           <span style=\"color: #00af00; text-decoration-color: #00af00\">129</span> │\n",
              "└─────────────────────────────────┴────────────────────────┴───────────────┘\n",
              "</pre>\n"
            ]
          },
          "metadata": {}
        },
        {
          "output_type": "display_data",
          "data": {
            "text/plain": [
              "\u001b[1m Total params: \u001b[0m\u001b[38;5;34m1,313,027\u001b[0m (5.01 MB)\n"
            ],
            "text/html": [
              "<pre style=\"white-space:pre;overflow-x:auto;line-height:normal;font-family:Menlo,'DejaVu Sans Mono',consolas,'Courier New',monospace\"><span style=\"font-weight: bold\"> Total params: </span><span style=\"color: #00af00; text-decoration-color: #00af00\">1,313,027</span> (5.01 MB)\n",
              "</pre>\n"
            ]
          },
          "metadata": {}
        },
        {
          "output_type": "display_data",
          "data": {
            "text/plain": [
              "\u001b[1m Trainable params: \u001b[0m\u001b[38;5;34m1,313,025\u001b[0m (5.01 MB)\n"
            ],
            "text/html": [
              "<pre style=\"white-space:pre;overflow-x:auto;line-height:normal;font-family:Menlo,'DejaVu Sans Mono',consolas,'Courier New',monospace\"><span style=\"font-weight: bold\"> Trainable params: </span><span style=\"color: #00af00; text-decoration-color: #00af00\">1,313,025</span> (5.01 MB)\n",
              "</pre>\n"
            ]
          },
          "metadata": {}
        },
        {
          "output_type": "display_data",
          "data": {
            "text/plain": [
              "\u001b[1m Non-trainable params: \u001b[0m\u001b[38;5;34m0\u001b[0m (0.00 B)\n"
            ],
            "text/html": [
              "<pre style=\"white-space:pre;overflow-x:auto;line-height:normal;font-family:Menlo,'DejaVu Sans Mono',consolas,'Courier New',monospace\"><span style=\"font-weight: bold\"> Non-trainable params: </span><span style=\"color: #00af00; text-decoration-color: #00af00\">0</span> (0.00 B)\n",
              "</pre>\n"
            ]
          },
          "metadata": {}
        },
        {
          "output_type": "display_data",
          "data": {
            "text/plain": [
              "\u001b[1m Optimizer params: \u001b[0m\u001b[38;5;34m2\u001b[0m (12.00 B)\n"
            ],
            "text/html": [
              "<pre style=\"white-space:pre;overflow-x:auto;line-height:normal;font-family:Menlo,'DejaVu Sans Mono',consolas,'Courier New',monospace\"><span style=\"font-weight: bold\"> Optimizer params: </span><span style=\"color: #00af00; text-decoration-color: #00af00\">2</span> (12.00 B)\n",
              "</pre>\n"
            ]
          },
          "metadata": {}
        }
      ]
    },
    {
      "cell_type": "markdown",
      "metadata": {
        "id": "bdd8cdc3"
      },
      "source": [
        "The error you encountered, `OSError: Unable to synchronously open file (truncated file...)`, indicates that the `.h5` file you are trying to load is corrupted or incomplete. This often happens during file download if the connection is interrupted.\n",
        "\n",
        "To fix this, you need to obtain a complete and valid copy of the `simple_rnn_model.h5` file. Once you have a good copy, upload it to the `/content/sample_data/` directory in your Colab environment, replacing the existing one.\n",
        "\n",
        "After replacing the file, re-run the cell to load the model."
      ]
    },
    {
      "cell_type": "code",
      "source": [
        "model.get_weights()"
      ],
      "metadata": {
        "id": "FLJxN8Kik7cj",
        "colab": {
          "base_uri": "https://localhost:8080/"
        },
        "outputId": "06ec6b43-7b7f-4cd3-cdfb-321a79f82433"
      },
      "execution_count": 7,
      "outputs": [
        {
          "output_type": "execute_result",
          "data": {
            "text/plain": [
              "[array([[ 0.00315959, -0.05885345, -0.04487357, ..., -0.16160636,\n",
              "         -0.07381064, -0.22713172],\n",
              "        [-0.010982  ,  0.01295186,  0.00989582, ...,  0.00619492,\n",
              "          0.0259071 , -0.01402742],\n",
              "        [ 0.06216905, -0.03668896, -0.02949215, ...,  0.10012034,\n",
              "         -0.01966471, -0.01791432],\n",
              "        ...,\n",
              "        [-0.00546371,  0.02049991,  0.03071249, ...,  0.00304725,\n",
              "          0.04512083, -0.05642379],\n",
              "        [ 0.03168333, -0.03850023, -0.1179658 , ..., -0.00707477,\n",
              "         -0.04988283, -0.03021054],\n",
              "        [ 0.02190687,  0.01585488, -0.06441   , ...,  0.00113844,\n",
              "         -0.11147692, -0.10170721]], dtype=float32),\n",
              " array([[ 0.03880229, -0.19013295,  0.21136642, ..., -0.01330285,\n",
              "          0.1767136 , -0.11452436],\n",
              "        [ 0.08139235,  0.0594714 ,  0.08046897, ..., -0.07764735,\n",
              "         -0.1209515 ,  0.16302139],\n",
              "        [ 0.01892424,  0.02735216, -0.22115442, ..., -0.05823908,\n",
              "          0.08907992,  0.08767304],\n",
              "        ...,\n",
              "        [ 0.13746782,  0.00994144, -0.1064264 , ...,  0.08372948,\n",
              "          0.06469709, -0.20322531],\n",
              "        [ 0.10694841, -0.0495047 , -0.00835308, ...,  0.01003634,\n",
              "          0.02909889,  0.16483143],\n",
              "        [ 0.192148  ,  0.10712567,  0.07062364, ..., -0.02442491,\n",
              "         -0.05054833, -0.00625948]], dtype=float32),\n",
              " array([[ 0.20444979, -0.05896758, -0.12701814, ...,  0.05853151,\n",
              "         -0.04836103, -0.05452675],\n",
              "        [-0.01053811, -0.03732956, -0.01448083, ..., -0.06538558,\n",
              "         -0.09315809, -0.05888074],\n",
              "        [ 0.08166551,  0.07555877, -0.12323396, ..., -0.13048288,\n",
              "          0.08116546,  0.09996051],\n",
              "        ...,\n",
              "        [-0.03921693, -0.10157711,  0.18602811, ...,  0.00745551,\n",
              "          0.0892659 , -0.06481935],\n",
              "        [-0.0499216 , -0.06388141, -0.07745166, ...,  0.04961655,\n",
              "          0.02768042,  0.17381623],\n",
              "        [-0.12453899,  0.00106853,  0.04667302, ...,  0.06041991,\n",
              "          0.0152148 , -0.0408886 ]], dtype=float32),\n",
              " array([-0.02112134, -0.08188345,  0.08487421, -0.03889971, -0.0623025 ,\n",
              "        -0.06122632, -0.03734967, -0.05069223, -0.02423431, -0.00020019,\n",
              "        -0.04400373,  0.02171129, -0.03713125,  0.08763488,  0.00792714,\n",
              "        -0.11597562, -0.09021951, -0.06998453, -0.03876082, -0.09604038,\n",
              "         0.09992064,  0.04785101,  0.02858368, -0.05708181, -0.01820351,\n",
              "        -0.01879588, -0.0380748 , -0.04362636, -0.10802186,  0.01764971,\n",
              "         0.00626946, -0.08344894, -0.04926855,  0.02249868, -0.02643662,\n",
              "        -0.07011343,  0.01293952,  0.03645252,  0.03529044,  0.01686298,\n",
              "         0.05889589,  0.01151672,  0.00601317, -0.0971984 ,  0.0159594 ,\n",
              "        -0.01076251, -0.03048008, -0.13908643,  0.02021159, -0.11052295,\n",
              "        -0.06242522,  0.12768358,  0.02361532,  0.09082662, -0.13710766,\n",
              "         0.01769379, -0.00093392, -0.08377092,  0.03798586,  0.02149192,\n",
              "         0.0910643 ,  0.07662301,  0.029836  ,  0.05108142, -0.03882862,\n",
              "         0.04060917, -0.03527005, -0.08533915, -0.01793687,  0.05659821,\n",
              "         0.02095951,  0.04334157, -0.04378355,  0.08065747, -0.01870617,\n",
              "         0.00455254,  0.02242007, -0.10260499,  0.05349982, -0.02365183,\n",
              "        -0.04970053, -0.0671728 ,  0.03597213, -0.05085797,  0.07705953,\n",
              "        -0.03059422,  0.01058446,  0.07223405,  0.00423455, -0.00659801,\n",
              "        -0.00490146,  0.0470233 ,  0.00654075,  0.02086983,  0.05851866,\n",
              "        -0.02782912,  0.04282111,  0.11300932, -0.03237655, -0.02145832,\n",
              "         0.04855539, -0.00289875, -0.00755919,  0.0089835 ,  0.07348442,\n",
              "        -0.01315849,  0.02555211, -0.03504105, -0.12568203, -0.01844053,\n",
              "        -0.06207353, -0.02527261, -0.07566853,  0.13812529,  0.02546988,\n",
              "         0.10725498, -0.01356939,  0.05372653, -0.02931698,  0.00786375,\n",
              "         0.05303757,  0.0422711 , -0.10562611,  0.00655105,  0.09615211,\n",
              "         0.01168553,  0.03377454, -0.01837918], dtype=float32),\n",
              " array([[ 0.02107119],\n",
              "        [-0.02796681],\n",
              "        [-0.01392399],\n",
              "        [ 0.2104882 ],\n",
              "        [ 0.17636956],\n",
              "        [-0.2067959 ],\n",
              "        [-0.26622507],\n",
              "        [ 0.22952107],\n",
              "        [ 0.10659011],\n",
              "        [ 0.16618933],\n",
              "        [-0.40198663],\n",
              "        [-0.07357553],\n",
              "        [ 0.08658428],\n",
              "        [ 0.03196029],\n",
              "        [ 0.05379359],\n",
              "        [-0.32127917],\n",
              "        [-0.17031682],\n",
              "        [-0.20426947],\n",
              "        [-0.13825923],\n",
              "        [-0.17594013],\n",
              "        [-0.10889658],\n",
              "        [-0.05037411],\n",
              "        [ 0.10171343],\n",
              "        [ 0.15576568],\n",
              "        [-0.08583567],\n",
              "        [ 0.17479186],\n",
              "        [ 0.25781035],\n",
              "        [-0.14729814],\n",
              "        [-0.17600705],\n",
              "        [-0.36045167],\n",
              "        [ 0.0153097 ],\n",
              "        [-0.25179225],\n",
              "        [-0.08601128],\n",
              "        [-0.08737177],\n",
              "        [-0.09293263],\n",
              "        [-0.07549769],\n",
              "        [ 0.21532513],\n",
              "        [-0.03301524],\n",
              "        [ 0.12725444],\n",
              "        [ 0.7446368 ],\n",
              "        [ 0.05999234],\n",
              "        [ 0.17978565],\n",
              "        [-0.19577082],\n",
              "        [ 0.09987444],\n",
              "        [-0.00194083],\n",
              "        [-0.08039859],\n",
              "        [ 0.11671703],\n",
              "        [-0.07486272],\n",
              "        [-0.13776535],\n",
              "        [ 0.19695632],\n",
              "        [ 0.04303056],\n",
              "        [-0.17983541],\n",
              "        [-0.01375609],\n",
              "        [-0.20765376],\n",
              "        [-0.06723304],\n",
              "        [ 0.14311564],\n",
              "        [-0.18773408],\n",
              "        [-0.09085985],\n",
              "        [ 0.66721994],\n",
              "        [ 0.05041363],\n",
              "        [ 0.08762018],\n",
              "        [ 0.10988898],\n",
              "        [ 0.01891201],\n",
              "        [ 0.11050954],\n",
              "        [ 0.1935617 ],\n",
              "        [ 0.16829243],\n",
              "        [ 0.01593005],\n",
              "        [ 0.21248509],\n",
              "        [-0.00591758],\n",
              "        [ 0.21737584],\n",
              "        [-0.01973382],\n",
              "        [ 0.07834852],\n",
              "        [ 0.05956242],\n",
              "        [-0.10405247],\n",
              "        [-0.22243299],\n",
              "        [ 0.22339778],\n",
              "        [ 0.55576175],\n",
              "        [ 0.16213453],\n",
              "        [-0.03462566],\n",
              "        [ 0.16980599],\n",
              "        [ 0.14890727],\n",
              "        [-0.0389594 ],\n",
              "        [ 0.14252415],\n",
              "        [ 0.15858832],\n",
              "        [ 0.1395395 ],\n",
              "        [-0.11385215],\n",
              "        [ 0.04241524],\n",
              "        [ 0.29569304],\n",
              "        [-0.03408965],\n",
              "        [ 0.13359827],\n",
              "        [-0.2148137 ],\n",
              "        [-0.11789992],\n",
              "        [-0.08547609],\n",
              "        [ 0.1535124 ],\n",
              "        [-0.03968608],\n",
              "        [ 0.10953841],\n",
              "        [ 0.06435885],\n",
              "        [-0.07079657],\n",
              "        [-0.28931224],\n",
              "        [ 0.09400667],\n",
              "        [ 0.03190881],\n",
              "        [-0.00531862],\n",
              "        [-0.02719262],\n",
              "        [-0.18605481],\n",
              "        [ 0.06576739],\n",
              "        [-0.20213957],\n",
              "        [-0.09643286],\n",
              "        [-0.01660228],\n",
              "        [ 0.05601915],\n",
              "        [ 0.09699905],\n",
              "        [-0.24782805],\n",
              "        [-0.05363465],\n",
              "        [-0.04876611],\n",
              "        [ 0.0289656 ],\n",
              "        [-0.06271897],\n",
              "        [ 0.05376907],\n",
              "        [ 0.42941824],\n",
              "        [ 0.15124775],\n",
              "        [-0.3164781 ],\n",
              "        [ 0.05149111],\n",
              "        [-0.21934304],\n",
              "        [-0.05420706],\n",
              "        [ 0.22055161],\n",
              "        [ 0.05942239],\n",
              "        [-0.00260618],\n",
              "        [ 0.0089156 ],\n",
              "        [ 0.0624085 ],\n",
              "        [ 0.3267347 ]], dtype=float32),\n",
              " array([-0.02745955], dtype=float32)]"
            ]
          },
          "metadata": {},
          "execution_count": 7
        }
      ]
    },
    {
      "cell_type": "code",
      "source": [
        "# Function to decode reviews\n",
        "def decode_review(encoded_review):\n",
        "  return ' '.join([reverse_word_index.get(i, '?') for i in encoded_review])\n",
        "# Function to preprocess user input\n",
        "def preprocess_text(text):\n",
        "  words = text.lower().split()\n",
        "  encoded_review = [word_index.get(word, 2) + 3 for word in words]\n",
        "  padded_review = sequence.pad_sequences([encoded_review], maxlen=500)#the sequence we are importing\n",
        "  return padded_review"
      ],
      "metadata": {
        "id": "sSGbyuYgk7fm"
      },
      "execution_count": 12,
      "outputs": []
    },
    {
      "cell_type": "code",
      "source": [
        "#prediction function\n",
        "def predict_sentiment(review):\n",
        "  preprocess_input = preprocess_text(review)\n",
        "  prediction = model.predict(preprocess_input)[0][0]\n",
        "  sentiment = 'positive' if prediction > 0.5 else 'negative'\n",
        "  return sentiment, prediction\n"
      ],
      "metadata": {
        "id": "u_eu43Ick7iY"
      },
      "execution_count": 15,
      "outputs": []
    },
    {
      "cell_type": "code",
      "source": [
        "#Step 4: User Input and Prediction\n",
        "# Example review for prediction\n",
        "example_review = \"This movie was fantastic! The acting was great and the plot was thrilling.\"\n",
        "sentiment, prediction = predict_sentiment(example_review)\n",
        "print(f'Sentiment: {sentiment}')\n",
        "print(f'Prediction: {prediction}')"
      ],
      "metadata": {
        "id": "MtQW7TQ0k7lD",
        "colab": {
          "base_uri": "https://localhost:8080/"
        },
        "outputId": "ef6e6c7c-3a46-43c5-9ee9-fd455d10bb0f"
      },
      "execution_count": 16,
      "outputs": [
        {
          "output_type": "stream",
          "name": "stdout",
          "text": [
            "\u001b[1m1/1\u001b[0m \u001b[32m━━━━━━━━━━━━━━━━━━━━\u001b[0m\u001b[37m\u001b[0m \u001b[1m1s\u001b[0m 614ms/step\n",
            "Sentiment: positive\n",
            "Prediction: 0.9253835082054138\n"
          ]
        }
      ]
    },
    {
      "cell_type": "code",
      "source": [],
      "metadata": {
        "id": "m6mOBw1mk7n1"
      },
      "execution_count": 5,
      "outputs": []
    },
    {
      "cell_type": "code",
      "source": [],
      "metadata": {
        "id": "g5TOqDcnk7q2"
      },
      "execution_count": 5,
      "outputs": []
    },
    {
      "cell_type": "code",
      "source": [],
      "metadata": {
        "id": "U7E9v7Jyk7t4"
      },
      "execution_count": 5,
      "outputs": []
    },
    {
      "cell_type": "code",
      "source": [],
      "metadata": {
        "id": "SNXC8L1Hk7w6"
      },
      "execution_count": 5,
      "outputs": []
    },
    {
      "cell_type": "code",
      "source": [],
      "metadata": {
        "id": "yxddqRomk70G"
      },
      "execution_count": 5,
      "outputs": []
    },
    {
      "cell_type": "code",
      "source": [],
      "metadata": {
        "id": "i-PGIf1wk73s"
      },
      "execution_count": 5,
      "outputs": []
    },
    {
      "cell_type": "code",
      "source": [],
      "metadata": {
        "id": "hTTk_oeVk76c"
      },
      "execution_count": 5,
      "outputs": []
    },
    {
      "cell_type": "code",
      "source": [],
      "metadata": {
        "id": "NLtdausfk79j"
      },
      "execution_count": 5,
      "outputs": []
    },
    {
      "cell_type": "code",
      "source": [],
      "metadata": {
        "id": "7iBEGyiyk8Al"
      },
      "execution_count": 5,
      "outputs": []
    },
    {
      "cell_type": "code",
      "source": [],
      "metadata": {
        "id": "kMWvx9gSk8Dt"
      },
      "execution_count": 5,
      "outputs": []
    },
    {
      "cell_type": "code",
      "source": [],
      "metadata": {
        "id": "wmzQW8YTk8Gz"
      },
      "execution_count": 5,
      "outputs": []
    },
    {
      "cell_type": "code",
      "source": [],
      "metadata": {
        "id": "gdbCU7Kfk8Jm"
      },
      "execution_count": 5,
      "outputs": []
    },
    {
      "cell_type": "code",
      "source": [],
      "metadata": {
        "id": "PwU9GNQEk8ND"
      },
      "execution_count": 5,
      "outputs": []
    },
    {
      "cell_type": "code",
      "source": [],
      "metadata": {
        "id": "hx2HbV7Pk8QQ"
      },
      "execution_count": 5,
      "outputs": []
    },
    {
      "cell_type": "code",
      "source": [],
      "metadata": {
        "id": "HTYQ2xwXk8Ta"
      },
      "execution_count": 5,
      "outputs": []
    },
    {
      "cell_type": "code",
      "source": [],
      "metadata": {
        "id": "I6zMPHKrk8WS"
      },
      "execution_count": 5,
      "outputs": []
    },
    {
      "cell_type": "code",
      "source": [],
      "metadata": {
        "id": "QGgdCsSsk8Zr"
      },
      "execution_count": 5,
      "outputs": []
    },
    {
      "cell_type": "markdown",
      "metadata": {
        "id": "59503c1e"
      },
      "source": [
        "# Task\n",
        "Deploy the trained Keras model and the associated notebook to a GitHub repository."
      ]
    },
    {
      "cell_type": "markdown",
      "metadata": {
        "id": "82de7fce"
      },
      "source": [
        "## Save the model\n",
        "\n",
        "### Subtask:\n",
        "Save the trained Keras model to a file (if not already saved).\n"
      ]
    },
    {
      "cell_type": "markdown",
      "metadata": {
        "id": "0e402108"
      },
      "source": [
        "## Prepare files for github\n",
        "\n",
        "### Subtask:\n",
        "Identify all necessary code files (like the notebook) and the saved model file.\n"
      ]
    },
    {
      "cell_type": "markdown",
      "metadata": {
        "id": "3557f0a8"
      },
      "source": [
        "**Reasoning**:\n",
        "List the required files and their paths based on the notebook code.\n",
        "\n"
      ]
    },
    {
      "cell_type": "code",
      "metadata": {
        "colab": {
          "base_uri": "https://localhost:8080/"
        },
        "id": "aeba8f1c",
        "outputId": "ee472cf8-e800-407b-ae0e-864c22660ca3"
      },
      "source": [
        "import os\n",
        "\n",
        "notebook_filename = \"simple_rnn_sentiment_analysis.ipynb\" # Replace with the actual notebook filename if different\n",
        "model_path = \"/content/drive/MyDrive/Colab Notebooks/simple_rnn_model.h5\"\n",
        "\n",
        "print(f\"Required files:\")\n",
        "print(f\"- Notebook file: {notebook_filename}\")\n",
        "print(f\"- Model file: {model_path}\")"
      ],
      "execution_count": 17,
      "outputs": [
        {
          "output_type": "stream",
          "name": "stdout",
          "text": [
            "Required files:\n",
            "- Notebook file: simple_rnn_sentiment_analysis.ipynb\n",
            "- Model file: /content/drive/MyDrive/Colab Notebooks/simple_rnn_model.h5\n"
          ]
        }
      ]
    },
    {
      "cell_type": "markdown",
      "metadata": {
        "id": "e361aed9"
      },
      "source": [
        "## Create a github repository\n",
        "\n",
        "### Subtask:\n",
        "Guide the user on how to create a new repository on GitHub.\n"
      ]
    },
    {
      "cell_type": "markdown",
      "metadata": {
        "id": "18abf1e9"
      },
      "source": [
        "**Reasoning**:\n",
        "Provide instructions to the user on how to create a new repository on GitHub.\n",
        "\n"
      ]
    },
    {
      "cell_type": "code",
      "metadata": {
        "colab": {
          "base_uri": "https://localhost:8080/"
        },
        "id": "b26bae9d",
        "outputId": "ba786151-5fa3-4c96-df58-ddbfd2294e5b"
      },
      "source": [
        "print(\"Please follow these steps to create a new repository on GitHub:\")\n",
        "print(\"1. Open a web browser and navigate to GitHub.com.\")\n",
        "print(\"2. Log in to your GitHub account. If you don't have an account, sign up for one.\")\n",
        "print(\"3. Click the '+' icon in the upper right corner of the page and select 'New repository'.\")\n",
        "print(\"4. Give your repository a name (e.g., 'simple-rnn-sentiment-analysis').\")\n",
        "print(\"5. Optionally, add a description for your repository.\")\n",
        "print(\"6. Choose whether you want the repository to be public or private.\")\n",
        "print(\"7. You can optionally initialize the repository with a README, a .gitignore file, and a license. For this task, a README is recommended.\")\n",
        "print(\"8. Click the 'Create repository' button.\")\n",
        "print(\"9. Once the repository is created, you will be redirected to the repository's page. Keep this page open as you will need the repository URL for the next step.\")"
      ],
      "execution_count": 18,
      "outputs": [
        {
          "output_type": "stream",
          "name": "stdout",
          "text": [
            "Please follow these steps to create a new repository on GitHub:\n",
            "1. Open a web browser and navigate to GitHub.com.\n",
            "2. Log in to your GitHub account. If you don't have an account, sign up for one.\n",
            "3. Click the '+' icon in the upper right corner of the page and select 'New repository'.\n",
            "4. Give your repository a name (e.g., 'simple-rnn-sentiment-analysis').\n",
            "5. Optionally, add a description for your repository.\n",
            "6. Choose whether you want the repository to be public or private.\n",
            "7. You can optionally initialize the repository with a README, a .gitignore file, and a license. For this task, a README is recommended.\n",
            "8. Click the 'Create repository' button.\n",
            "9. Once the repository is created, you will be redirected to the repository's page. Keep this page open as you will need the repository URL for the next step.\n"
          ]
        }
      ]
    },
    {
      "cell_type": "markdown",
      "metadata": {
        "id": "640d43fe"
      },
      "source": [
        "## Upload files to github\n",
        "\n",
        "### Subtask:\n",
        "Provide instructions or code to upload the prepared files to the newly created GitHub repository.\n"
      ]
    },
    {
      "cell_type": "markdown",
      "metadata": {
        "id": "59874d75"
      },
      "source": [
        "**Reasoning**:\n",
        "Provide instructions to the user on how to upload the identified files to the newly created GitHub repository based on the provided instructions.\n",
        "\n"
      ]
    },
    {
      "cell_type": "code",
      "metadata": {
        "colab": {
          "base_uri": "https://localhost:8080/"
        },
        "id": "7aedc726",
        "outputId": "3373d2fb-a69d-4f76-960d-a9d21f7e5834"
      },
      "source": [
        "print(\"To upload the notebook and model file to your GitHub repository, please follow these steps:\")\n",
        "print(\"1. Open a web browser and navigate to the GitHub repository you created in the previous step.\")\n",
        "print(\"2. On the repository page, click on the 'Add file' dropdown menu and select 'Upload files'.\")\n",
        "print(\"3. Drag and drop the notebook file (simple_rnn_sentiment_analysis.ipynb) and the model file (/content/drive/MyDrive/Colab Notebooks/simple_rnn_model.h5) onto the page, or click 'choose your files' to select them from your file explorer.\")\n",
        "print(\"4. Add a brief commit message describing the files you are adding (e.g., 'Add notebook and trained model').\")\n",
        "print(\"5. Click the 'Commit changes' button.\")"
      ],
      "execution_count": 19,
      "outputs": [
        {
          "output_type": "stream",
          "name": "stdout",
          "text": [
            "To upload the notebook and model file to your GitHub repository, please follow these steps:\n",
            "1. Open a web browser and navigate to the GitHub repository you created in the previous step.\n",
            "2. On the repository page, click on the 'Add file' dropdown menu and select 'Upload files'.\n",
            "3. Drag and drop the notebook file (simple_rnn_sentiment_analysis.ipynb) and the model file (/content/drive/MyDrive/Colab Notebooks/simple_rnn_model.h5) onto the page, or click 'choose your files' to select them from your file explorer.\n",
            "4. Add a brief commit message describing the files you are adding (e.g., 'Add notebook and trained model').\n",
            "5. Click the 'Commit changes' button.\n"
          ]
        }
      ]
    },
    {
      "cell_type": "markdown",
      "metadata": {
        "id": "bb3ac7f4"
      },
      "source": [
        "## Summary:\n",
        "\n",
        "### Data Analysis Key Findings\n",
        "\n",
        "*   The trained Keras model was already saved to a file, making the initial save step unnecessary.\n",
        "*   The necessary files for deployment were identified as the notebook file (`simple_rnn_sentiment_analysis.ipynb`) and the saved model file (`/content/drive/MyDrive/Colab Notebooks/simple_rnn_model.h5`).\n",
        "*   Step-by-step instructions were provided for creating a new GitHub repository, including logging in, naming the repository, and setting visibility.\n",
        "*   Instructions were given for uploading the identified files to the created GitHub repository using the web interface, specifying the drag-and-drop method or file selection, adding a commit message, and committing changes.\n",
        "\n",
        "### Insights or Next Steps\n",
        "\n",
        "*   The user now has the necessary files and a GitHub repository ready for sharing the model and notebook.\n",
        "*   The next steps would involve potentially adding a README file with instructions on how to use the notebook and model, and possibly setting up version control using Git commands if the user prefers a command-line approach.\n"
      ]
    },
    {
      "cell_type": "markdown",
      "metadata": {
        "id": "68168d64"
      },
      "source": [
        "# Task\n",
        "Push the current notebook and the 'simple_rnn_model.h5' file to the GitHub repository \"Ah200512/Adithya harish\"."
      ]
    },
    {
      "cell_type": "markdown",
      "metadata": {
        "id": "67c2202b"
      },
      "source": [
        "## Install git\n",
        "\n",
        "### Subtask:\n",
        "Install Git in the Colab environment.\n"
      ]
    },
    {
      "cell_type": "markdown",
      "metadata": {
        "id": "5ab488b2"
      },
      "source": [
        "**Reasoning**:\n",
        "Install Git using apt-get to prepare the environment for interacting with GitHub.\n",
        "\n"
      ]
    },
    {
      "cell_type": "code",
      "metadata": {
        "colab": {
          "base_uri": "https://localhost:8080/"
        },
        "id": "55f45cef",
        "outputId": "e7442c0c-a3e2-4d49-f32b-89d9f2c03059"
      },
      "source": [
        "!apt-get update\n",
        "!apt-get install git -y"
      ],
      "execution_count": 20,
      "outputs": [
        {
          "output_type": "stream",
          "name": "stdout",
          "text": [
            "\r0% [Working]\r            \rGet:1 https://cloud.r-project.org/bin/linux/ubuntu jammy-cran40/ InRelease [3,632 B]\n",
            "\r0% [Connecting to archive.ubuntu.com (91.189.91.83)] [Connecting to security.ub\r0% [Connecting to archive.ubuntu.com (91.189.91.83)] [Connecting to security.ub\r                                                                               \rGet:2 https://developer.download.nvidia.com/compute/cuda/repos/ubuntu2204/x86_64  InRelease [1,581 B]\n",
            "\r                                                                               \rHit:3 https://cli.github.com/packages stable InRelease\n",
            "\r0% [Waiting for headers] [Connecting to security.ubuntu.com (185.125.190.36)] [\r                                                                               \rHit:4 http://archive.ubuntu.com/ubuntu jammy InRelease\n",
            "\r0% [Waiting for headers] [Waiting for headers] [Connecting to ppa.launchpadcont\r                                                                               \rGet:5 http://archive.ubuntu.com/ubuntu jammy-updates InRelease [128 kB]\n",
            "\r0% [5 InRelease 14.2 kB/128 kB 11%] [Waiting for headers] [Waiting for headers]\r0% [5 InRelease 15.6 kB/128 kB 12%] [Waiting for headers] [Waiting for headers]\r0% [5 InRelease 15.6 kB/128 kB 12%] [Waiting for headers] [Waiting for headers]\r                                                                               \rGet:6 http://security.ubuntu.com/ubuntu jammy-security InRelease [129 kB]\n",
            "\r0% [5 InRelease 15.6 kB/128 kB 12%] [6 InRelease 14.2 kB/129 kB 11%] [Waiting f\r                                                                               \rGet:7 https://r2u.stat.illinois.edu/ubuntu jammy InRelease [6,555 B]\n",
            "Get:8 https://developer.download.nvidia.com/compute/cuda/repos/ubuntu2204/x86_64  Packages [2,065 kB]\n",
            "Get:9 http://archive.ubuntu.com/ubuntu jammy-backports InRelease [127 kB]\n",
            "Get:10 https://r2u.stat.illinois.edu/ubuntu jammy/main amd64 Packages [2,808 kB]\n",
            "Hit:11 https://ppa.launchpadcontent.net/deadsnakes/ppa/ubuntu jammy InRelease\n",
            "Get:12 http://archive.ubuntu.com/ubuntu jammy-updates/universe amd64 Packages [1,580 kB]\n",
            "Hit:13 https://ppa.launchpadcontent.net/graphics-drivers/ppa/ubuntu jammy InRelease\n",
            "Hit:14 https://ppa.launchpadcontent.net/ubuntugis/ppa/ubuntu jammy InRelease\n",
            "Get:15 http://archive.ubuntu.com/ubuntu jammy-updates/main amd64 Packages [3,738 kB]\n",
            "Get:16 https://r2u.stat.illinois.edu/ubuntu jammy/main all Packages [9,322 kB]\n",
            "Get:17 http://archive.ubuntu.com/ubuntu jammy-backports/universe amd64 Packages [35.2 kB]\n",
            "Get:18 http://archive.ubuntu.com/ubuntu jammy-backports/main amd64 Packages [83.9 kB]\n",
            "Fetched 20.0 MB in 2s (9,765 kB/s)\n",
            "Reading package lists... Done\n",
            "W: Skipping acquire of configured file 'main/source/Sources' as repository 'https://r2u.stat.illinois.edu/ubuntu jammy InRelease' does not seem to provide it (sources.list entry misspelt?)\n",
            "Reading package lists... Done\n",
            "Building dependency tree... Done\n",
            "Reading state information... Done\n",
            "git is already the newest version (1:2.34.1-1ubuntu1.15).\n",
            "0 upgraded, 0 newly installed, 0 to remove and 40 not upgraded.\n"
          ]
        }
      ]
    },
    {
      "cell_type": "markdown",
      "metadata": {
        "id": "4124ef89"
      },
      "source": [
        "## Configure git\n",
        "\n",
        "### Subtask:\n",
        "Configure your Git identity with your name and email.\n"
      ]
    },
    {
      "cell_type": "markdown",
      "metadata": {
        "id": "ab551e25"
      },
      "source": [
        "**Reasoning**:\n",
        "Configure the Git username and email.\n",
        "\n"
      ]
    },
    {
      "cell_type": "code",
      "metadata": {
        "id": "92fbccd4"
      },
      "source": [
        "!git config --global user.name \"Ah200512\"\n",
        "!git config --global user.email \"Ah200512@gmail.com\""
      ],
      "execution_count": 21,
      "outputs": []
    },
    {
      "cell_type": "markdown",
      "metadata": {
        "id": "b0a1fe8c"
      },
      "source": [
        "## Clone the repository\n",
        "\n",
        "### Subtask:\n",
        "Clone your GitHub repository to the Colab environment.\n"
      ]
    },
    {
      "cell_type": "markdown",
      "metadata": {
        "id": "ff09e8fe"
      },
      "source": [
        "**Reasoning**:\n",
        "Use the git clone command to clone the specified GitHub repository into the Colab environment.\n",
        "\n"
      ]
    },
    {
      "cell_type": "code",
      "metadata": {
        "colab": {
          "base_uri": "https://localhost:8080/"
        },
        "id": "3202671e",
        "outputId": "4a32a869-5fea-42f9-cf0b-684ee795a80e"
      },
      "source": [
        "!git clone https://github.com/Ah200512/Adithya-harish.git"
      ],
      "execution_count": 22,
      "outputs": [
        {
          "output_type": "stream",
          "name": "stdout",
          "text": [
            "Cloning into 'Adithya-harish'...\n",
            "fatal: could not read Username for 'https://github.com': No such device or address\n"
          ]
        }
      ]
    },
    {
      "cell_type": "markdown",
      "metadata": {
        "id": "b4ff5d46"
      },
      "source": [
        "## Clone the repository\n",
        "\n",
        "### Subtask:\n",
        "Retry cloning your GitHub repository to the Colab environment, this time using a different authentication method suitable for non-interactive environments.\n"
      ]
    },
    {
      "cell_type": "markdown",
      "metadata": {
        "id": "07af521d"
      },
      "source": [
        "**Reasoning**:\n",
        "Attempt to clone the GitHub repository using a Personal Access Token for authentication as instructed in the subtask.\n",
        "\n"
      ]
    },
    {
      "cell_type": "markdown",
      "metadata": {
        "id": "587512ef"
      },
      "source": [
        "# Task\n",
        "Upload the notebook and the simple RNN model file to the GitHub repository \"Adithya harish Ah200512\" without using a personal access token."
      ]
    },
    {
      "cell_type": "markdown",
      "metadata": {
        "id": "621c78dc"
      },
      "source": [
        "## Generate ssh key pair\n",
        "\n",
        "### Subtask:\n",
        "Generate a new SSH key pair in the Colab environment.\n"
      ]
    },
    {
      "cell_type": "markdown",
      "metadata": {
        "id": "a4ea1398"
      },
      "source": [
        "**Reasoning**:\n",
        "Generate a new SSH key pair using the provided command and replace the placeholder email with the user's GitHub email.\n",
        "\n"
      ]
    },
    {
      "cell_type": "code",
      "metadata": {
        "colab": {
          "base_uri": "https://localhost:8080/"
        },
        "id": "08fc0710",
        "outputId": "528972a5-bea9-43ae-cd1c-deed5a6b8f42"
      },
      "source": [
        "!ssh-keygen -t rsa -b 4096 -C \"adithyaaudi2005@gmail.com\""
      ],
      "execution_count": null,
      "outputs": [
        {
          "output_type": "stream",
          "name": "stdout",
          "text": [
            "Generating public/private rsa key pair.\n",
            "Enter file in which to save the key (/root/.ssh/id_rsa): "
          ]
        }
      ]
    }
  ]
}